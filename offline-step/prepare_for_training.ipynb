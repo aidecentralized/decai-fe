{
 "cells": [
  {
   "cell_type": "markdown",
   "metadata": {},
   "source": [
    "# Offline Step: Generation of Training Artifacts"
   ]
  },
  {
   "cell_type": "code",
   "execution_count": null,
   "metadata": {},
   "outputs": [],
   "source": [
    "%pip install --upgrade pip\n",
    "%pip install torch-ort torchvision"
   ]
  },
  {
   "cell_type": "code",
   "execution_count": null,
   "metadata": {},
   "outputs": [],
   "source": [
    "# largely borrowed from https://www.youtube.com/watch?v=u7YCaiHOC9o\n",
    "\n",
    "import torch\n",
    "import os\n",
    "import torchvision\n",
    "\n",
    "os.makedirs(\"training_artifacts\", exist_ok=True)\n",
    "\n",
    "model = torchvision.models.mobilenet_v2(\n",
    "    weights=torchvision.models.MobileNet_V2_Weights.IMAGENET1K_V2\n",
    ")\n",
    "\n",
    "\n",
    "# imagenet had 1000 classes, bloodMNIST only has 8\n",
    "model.classifier[1] = torch.nn.Linear(1280, 8)\n",
    "\n",
    "# convert the model to ONNX\n",
    "model_name = \"mobilenetv2\"\n",
    "torch.onnx.export(model, torch.randn(1, 3, 224, 224),\n",
    "                  f\"training_artifacts/{model_name}.onnx\",\n",
    "                  input_names=[\"input\"],\n",
    "                  output_names=[\"output\"],\n",
    "                  dynamic_axes={\"input\": {0: \"batch\"}, \"output\": {0: \"batch\"}},\n",
    "                  export_params=True,\n",
    "                  do_constant_folding=False,\n",
    "                  training=torch.onnx.TrainingMode.TRAINING)"
   ]
  },
  {
   "cell_type": "markdown",
   "metadata": {},
   "source": [
    "Now we have a model converted to ONNX format, need to generate the training artifacts that we will use later:"
   ]
  },
  {
   "cell_type": "code",
   "execution_count": null,
   "metadata": {},
   "outputs": [],
   "source": [
    "import onnx\n",
    "from onnxruntime.training import artifacts\n",
    "\n",
    "# get the onnx model\n",
    "onnx_model = onnx.load(f\"training_artifacts/{model_name}.onnx\")"
   ]
  }
 ],
 "metadata": {
  "kernelspec": {
   "display_name": "venv",
   "language": "python",
   "name": "python3"
  },
  "language_info": {
   "codemirror_mode": {
    "name": "ipython",
    "version": 3
   },
   "file_extension": ".py",
   "mimetype": "text/x-python",
   "name": "python",
   "nbconvert_exporter": "python",
   "pygments_lexer": "ipython3",
   "version": "3.11.1"
  }
 },
 "nbformat": 4,
 "nbformat_minor": 2
}
