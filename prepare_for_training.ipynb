{
 "cells": [
  {
   "cell_type": "markdown",
   "metadata": {},
   "source": [
    "# Offline Step: Generation of Training Artifacts and Dataset Download"
   ]
  },
  {
   "cell_type": "markdown",
   "metadata": {},
   "source": [
    "## Part 1: Training Artficat Generation"
   ]
  },
  {
   "cell_type": "code",
   "execution_count": 1,
   "metadata": {},
   "outputs": [
    {
     "name": "stdout",
     "output_type": "stream",
     "text": [
      "Requirement already satisfied: pip in ./venv/lib/python3.12/site-packages (24.3.1)\n",
      "Note: you may need to restart the kernel to use updated packages.\n",
      "Requirement already satisfied: onnxruntime in ./venv/lib/python3.12/site-packages (1.20.1)\n",
      "Requirement already satisfied: torch in ./venv/lib/python3.12/site-packages (2.5.1)\n",
      "Requirement already satisfied: torchvision in ./venv/lib/python3.12/site-packages (0.20.1)\n",
      "Requirement already satisfied: medmnist in ./venv/lib/python3.12/site-packages (3.0.2)\n",
      "Requirement already satisfied: tqdm in ./venv/lib/python3.12/site-packages (4.67.0)\n",
      "Requirement already satisfied: coloredlogs in ./venv/lib/python3.12/site-packages (from onnxruntime) (15.0.1)\n",
      "Requirement already satisfied: flatbuffers in ./venv/lib/python3.12/site-packages (from onnxruntime) (24.3.25)\n",
      "Requirement already satisfied: numpy>=1.21.6 in ./venv/lib/python3.12/site-packages (from onnxruntime) (2.1.3)\n",
      "Requirement already satisfied: packaging in ./venv/lib/python3.12/site-packages (from onnxruntime) (24.2)\n",
      "Requirement already satisfied: protobuf in ./venv/lib/python3.12/site-packages (from onnxruntime) (5.28.3)\n",
      "Requirement already satisfied: sympy in ./venv/lib/python3.12/site-packages (from onnxruntime) (1.13.1)\n",
      "Requirement already satisfied: filelock in ./venv/lib/python3.12/site-packages (from torch) (3.16.1)\n",
      "Requirement already satisfied: typing-extensions>=4.8.0 in ./venv/lib/python3.12/site-packages (from torch) (4.12.2)\n",
      "Requirement already satisfied: networkx in ./venv/lib/python3.12/site-packages (from torch) (3.4.2)\n",
      "Requirement already satisfied: jinja2 in ./venv/lib/python3.12/site-packages (from torch) (3.1.4)\n",
      "Requirement already satisfied: fsspec in ./venv/lib/python3.12/site-packages (from torch) (2024.10.0)\n",
      "Requirement already satisfied: nvidia-cuda-nvrtc-cu12==12.4.127 in ./venv/lib/python3.12/site-packages (from torch) (12.4.127)\n",
      "Requirement already satisfied: nvidia-cuda-runtime-cu12==12.4.127 in ./venv/lib/python3.12/site-packages (from torch) (12.4.127)\n",
      "Requirement already satisfied: nvidia-cuda-cupti-cu12==12.4.127 in ./venv/lib/python3.12/site-packages (from torch) (12.4.127)\n",
      "Requirement already satisfied: nvidia-cudnn-cu12==9.1.0.70 in ./venv/lib/python3.12/site-packages (from torch) (9.1.0.70)\n",
      "Requirement already satisfied: nvidia-cublas-cu12==12.4.5.8 in ./venv/lib/python3.12/site-packages (from torch) (12.4.5.8)\n",
      "Requirement already satisfied: nvidia-cufft-cu12==11.2.1.3 in ./venv/lib/python3.12/site-packages (from torch) (11.2.1.3)\n",
      "Requirement already satisfied: nvidia-curand-cu12==10.3.5.147 in ./venv/lib/python3.12/site-packages (from torch) (10.3.5.147)\n",
      "Requirement already satisfied: nvidia-cusolver-cu12==11.6.1.9 in ./venv/lib/python3.12/site-packages (from torch) (11.6.1.9)\n",
      "Requirement already satisfied: nvidia-cusparse-cu12==12.3.1.170 in ./venv/lib/python3.12/site-packages (from torch) (12.3.1.170)\n",
      "Requirement already satisfied: nvidia-nccl-cu12==2.21.5 in ./venv/lib/python3.12/site-packages (from torch) (2.21.5)\n",
      "Requirement already satisfied: nvidia-nvtx-cu12==12.4.127 in ./venv/lib/python3.12/site-packages (from torch) (12.4.127)\n",
      "Requirement already satisfied: nvidia-nvjitlink-cu12==12.4.127 in ./venv/lib/python3.12/site-packages (from torch) (12.4.127)\n",
      "Requirement already satisfied: triton==3.1.0 in ./venv/lib/python3.12/site-packages (from torch) (3.1.0)\n",
      "Requirement already satisfied: setuptools in ./venv/lib/python3.12/site-packages (from torch) (75.6.0)\n",
      "Requirement already satisfied: mpmath<1.4,>=1.1.0 in ./venv/lib/python3.12/site-packages (from sympy->onnxruntime) (1.3.0)\n",
      "Requirement already satisfied: pillow!=8.3.*,>=5.3.0 in ./venv/lib/python3.12/site-packages (from torchvision) (11.0.0)\n",
      "Requirement already satisfied: pandas in ./venv/lib/python3.12/site-packages (from medmnist) (2.2.3)\n",
      "Requirement already satisfied: scikit-learn in ./venv/lib/python3.12/site-packages (from medmnist) (1.5.2)\n",
      "Requirement already satisfied: scikit-image in ./venv/lib/python3.12/site-packages (from medmnist) (0.24.0)\n",
      "Requirement already satisfied: fire in ./venv/lib/python3.12/site-packages (from medmnist) (0.7.0)\n",
      "Requirement already satisfied: humanfriendly>=9.1 in ./venv/lib/python3.12/site-packages (from coloredlogs->onnxruntime) (10.0)\n",
      "Requirement already satisfied: termcolor in ./venv/lib/python3.12/site-packages (from fire->medmnist) (2.5.0)\n",
      "Requirement already satisfied: MarkupSafe>=2.0 in ./venv/lib/python3.12/site-packages (from jinja2->torch) (3.0.2)\n",
      "Requirement already satisfied: python-dateutil>=2.8.2 in ./venv/lib/python3.12/site-packages (from pandas->medmnist) (2.9.0.post0)\n",
      "Requirement already satisfied: pytz>=2020.1 in ./venv/lib/python3.12/site-packages (from pandas->medmnist) (2024.2)\n",
      "Requirement already satisfied: tzdata>=2022.7 in ./venv/lib/python3.12/site-packages (from pandas->medmnist) (2024.2)\n",
      "Requirement already satisfied: scipy>=1.9 in ./venv/lib/python3.12/site-packages (from scikit-image->medmnist) (1.14.1)\n",
      "Requirement already satisfied: imageio>=2.33 in ./venv/lib/python3.12/site-packages (from scikit-image->medmnist) (2.36.0)\n",
      "Requirement already satisfied: tifffile>=2022.8.12 in ./venv/lib/python3.12/site-packages (from scikit-image->medmnist) (2024.9.20)\n",
      "Requirement already satisfied: lazy-loader>=0.4 in ./venv/lib/python3.12/site-packages (from scikit-image->medmnist) (0.4)\n",
      "Requirement already satisfied: joblib>=1.2.0 in ./venv/lib/python3.12/site-packages (from scikit-learn->medmnist) (1.4.2)\n",
      "Requirement already satisfied: threadpoolctl>=3.1.0 in ./venv/lib/python3.12/site-packages (from scikit-learn->medmnist) (3.5.0)\n",
      "Requirement already satisfied: six>=1.5 in ./venv/lib/python3.12/site-packages (from python-dateutil>=2.8.2->pandas->medmnist) (1.16.0)\n",
      "Note: you may need to restart the kernel to use updated packages.\n",
      "Requirement already satisfied: cerberus in ./venv/lib/python3.12/site-packages (1.3.5)\n",
      "Requirement already satisfied: flatbuffers in ./venv/lib/python3.12/site-packages (24.3.25)\n",
      "Requirement already satisfied: h5py in ./venv/lib/python3.12/site-packages (3.12.1)\n",
      "Requirement already satisfied: numpy in ./venv/lib/python3.12/site-packages (2.1.3)\n",
      "Requirement already satisfied: onnx in ./venv/lib/python3.12/site-packages (1.17.0)\n",
      "Requirement already satisfied: packaging in ./venv/lib/python3.12/site-packages (24.2)\n",
      "Requirement already satisfied: protobuf in ./venv/lib/python3.12/site-packages (5.28.3)\n",
      "Requirement already satisfied: sympy in ./venv/lib/python3.12/site-packages (1.13.1)\n",
      "Requirement already satisfied: setuptools in ./venv/lib/python3.12/site-packages (75.6.0)\n",
      "Requirement already satisfied: mpmath<1.4,>=1.1.0 in ./venv/lib/python3.12/site-packages (from sympy) (1.3.0)\n",
      "Note: you may need to restart the kernel to use updated packages.\n",
      "Looking in indexes: https://aiinfra.pkgs.visualstudio.com/PublicPackages/_packaging/ORT/pypi/simple/\n",
      "Requirement already satisfied: onnxruntime-training-cpu in ./venv/lib/python3.12/site-packages (1.19.2)\n",
      "Requirement already satisfied: cerberus in ./venv/lib/python3.12/site-packages (from onnxruntime-training-cpu) (1.3.5)\n",
      "Requirement already satisfied: flatbuffers in ./venv/lib/python3.12/site-packages (from onnxruntime-training-cpu) (24.3.25)\n",
      "Requirement already satisfied: h5py in ./venv/lib/python3.12/site-packages (from onnxruntime-training-cpu) (3.12.1)\n",
      "Requirement already satisfied: numpy>=1.16.6 in ./venv/lib/python3.12/site-packages (from onnxruntime-training-cpu) (2.1.3)\n",
      "Requirement already satisfied: onnx in ./venv/lib/python3.12/site-packages (from onnxruntime-training-cpu) (1.17.0)\n",
      "Requirement already satisfied: packaging in ./venv/lib/python3.12/site-packages (from onnxruntime-training-cpu) (24.2)\n",
      "Requirement already satisfied: protobuf in ./venv/lib/python3.12/site-packages (from onnxruntime-training-cpu) (5.28.3)\n",
      "Requirement already satisfied: sympy in ./venv/lib/python3.12/site-packages (from onnxruntime-training-cpu) (1.13.1)\n",
      "Requirement already satisfied: setuptools>=61.0.0 in ./venv/lib/python3.12/site-packages (from onnxruntime-training-cpu) (75.6.0)\n",
      "Requirement already satisfied: mpmath<1.4,>=1.1.0 in ./venv/lib/python3.12/site-packages (from sympy->onnxruntime-training-cpu) (1.3.0)\n",
      "Note: you may need to restart the kernel to use updated packages.\n",
      "Requirement already satisfied: netron in ./venv/lib/python3.12/site-packages (8.0.2)\n",
      "Note: you may need to restart the kernel to use updated packages.\n"
     ]
    }
   ],
   "source": [
    "%pip install --upgrade pip\n",
    "%pip install onnxruntime torch torchvision medmnist tqdm\n",
    "%pip install cerberus flatbuffers h5py numpy onnx packaging protobuf sympy setuptools\n",
    "%pip install -i https://aiinfra.pkgs.visualstudio.com/PublicPackages/_packaging/ORT/pypi/simple/ onnxruntime-training-cpu\n",
    "%pip install netron"
   ]
  },
  {
   "cell_type": "code",
   "execution_count": 2,
   "metadata": {},
   "outputs": [
    {
     "name": "stdout",
     "output_type": "stream",
     "text": [
      "Serving 'public/training_artifacts/resnet50.onnx' at http://localhost:8080\n"
     ]
    },
    {
     "data": {
      "text/plain": [
       "('localhost', 8080)"
      ]
     },
     "execution_count": 2,
     "metadata": {},
     "output_type": "execute_result"
    }
   ],
   "source": [
    "# largely borrowed from https://www.youtube.com/watch?v=u7YCaiHOC9o\n",
    "\n",
    "import torch\n",
    "import os\n",
    "import torchvision\n",
    "import netron\n",
    "\n",
    "os.makedirs(\"public\", exist_ok=True)\n",
    "os.makedirs(\"public/training_artifacts\", exist_ok=True)\n",
    "\n",
    "# load weights from pretrained resnet model\n",
    "model = torchvision.models.resnet50(\n",
    "    weights=torchvision.models.ResNet50_Weights.DEFAULT\n",
    ")\n",
    "\n",
    "\n",
    "# changing last layer to only output one of 8 classes since bloodMNIST only has 8\n",
    "num_fc_feats = model.fc.in_features\n",
    "model.fc = torch.nn.Linear(num_fc_feats, 8)\n",
    "\n",
    "# convert the model to ONNX\n",
    "model.train()\n",
    "model_name = \"resnet50\"\n",
    "torch.onnx.export(model,\n",
    "                  torch.randn(1, 3, 224, 224),\n",
    "                  f\"public/training_artifacts/{model_name}.onnx\",\n",
    "                  input_names=[\"input\"],\n",
    "                  output_names=[\"output\"],\n",
    "                  dynamic_axes={\"input\": {0: \"batch\"}, \"output\": {0: \"batch\"}},\n",
    "                  export_params=True,\n",
    "                  do_constant_folding=False\n",
    ")\n",
    "\n",
    "netron.start(f\"public/training_artifacts/{model_name}.onnx\")"
   ]
  },
  {
   "cell_type": "markdown",
   "metadata": {},
   "source": [
    "Now we have a model converted to ONNX format, need to generate the training artifacts that we will use later:"
   ]
  },
  {
   "cell_type": "code",
   "execution_count": 3,
   "metadata": {},
   "outputs": [
    {
     "name": "stdout",
     "output_type": "stream",
     "text": [
      "Opening in existing browser session.\n"
     ]
    },
    {
     "name": "stderr",
     "output_type": "stream",
     "text": [
      "2024-11-24 08:12:22.716715816 [I:onnxruntime:Default, graph_transformer.cc:15 Apply] GraphTransformer ConstantSharing modified: 0 with status: OK\n",
      "2024-11-24 08:12:22.717131410 [I:onnxruntime:Default, graph_transformer.cc:15 Apply] GraphTransformer LayerNormFusion modified: 0 with status: OK\n",
      "2024-11-24 08:12:22.717234158 [I:onnxruntime:Default, graph_transformer.cc:15 Apply] GraphTransformer CommonSubexpressionElimination modified: 0 with status: OK\n",
      "2024-11-24 08:12:22.717260398 [I:onnxruntime:Default, graph_transformer.cc:15 Apply] GraphTransformer GeluFusion modified: 0 with status: OK\n",
      "2024-11-24 08:12:22.717287237 [I:onnxruntime:Default, graph_transformer.cc:15 Apply] GraphTransformer SimplifiedLayerNormFusion modified: 0 with status: OK\n",
      "2024-11-24 08:12:22.717305907 [I:onnxruntime:Default, graph_transformer.cc:15 Apply] GraphTransformer FastGeluFusion modified: 0 with status: OK\n",
      "2024-11-24 08:12:22.717321377 [I:onnxruntime:Default, graph_transformer.cc:15 Apply] GraphTransformer QuickGeluFusion modified: 0 with status: OK\n",
      "2024-11-24 08:12:22.717351216 [I:onnxruntime:Default, graph_transformer.cc:15 Apply] GraphTransformer SoftmaxCrossEntropyLossInternalFusion modified: 0 with status: OK\n",
      "2024-11-24 08:12:22.717385106 [I:onnxruntime:Default, graph_transformer.cc:15 Apply] GraphTransformer GatherSliceToSplitFusion modified: 0 with status: OK\n",
      "2024-11-24 08:12:22.717399896 [I:onnxruntime:Default, graph_transformer.cc:15 Apply] GraphTransformer GatherToSliceFusion modified: 0 with status: OK\n",
      "2024-11-24 08:12:22.717416105 [I:onnxruntime:Default, graph_transformer.cc:15 Apply] GraphTransformer QDQFusion modified: 0 with status: OK\n",
      "2024-11-24 08:12:22.717439975 [I:onnxruntime:Default, graph_transformer.cc:15 Apply] GraphTransformer ConstantFolding modified: 0 with status: OK\n",
      "2024-11-24 08:12:22.717454255 [I:onnxruntime:Default, graph_transformer.cc:15 Apply] GraphTransformer ReshapeFusion modified: 0 with status: OK\n",
      "2024-11-24 08:12:22.717468575 [I:onnxruntime:Default, graph_transformer.cc:15 Apply] GraphTransformer ShapeOptimizer modified: 0 with status: OK\n",
      "2024-11-24 08:12:22.717482694 [I:onnxruntime:Default, graph_transformer.cc:15 Apply] GraphTransformer ConcatSliceElimination modified: 0 with status: OK\n",
      "2024-11-24 08:12:22.717563753 [I:onnxruntime:Default, graph_transformer.cc:15 Apply] GraphTransformer PropagateCastOps modified: 0 with status: OK\n",
      "2024-11-24 08:12:22.717591873 [I:onnxruntime:Default, graph_transformer.cc:15 Apply] GraphTransformer CastSceLossFusion modified: 0 with status: OK\n",
      "2024-11-24 08:12:22.718168754 [I:onnxruntime:Default, graph_transformer.cc:15 Apply] GraphTransformer Level1_RuleBasedTransformer modified: 1 with status: OK\n",
      "2024-11-24 08:12:22.718813444 [I:onnxruntime:Default, graph_transformer.cc:15 Apply] GraphTransformer ConstantSharing modified: 0 with status: OK\n",
      "2024-11-24 08:12:22.718848183 [I:onnxruntime:Default, graph_transformer.cc:15 Apply] GraphTransformer LayerNormFusion modified: 0 with status: OK\n",
      "2024-11-24 08:12:22.718994931 [I:onnxruntime:Default, graph_transformer.cc:15 Apply] GraphTransformer CommonSubexpressionElimination modified: 0 with status: OK\n",
      "2024-11-24 08:12:22.719035820 [I:onnxruntime:Default, graph_transformer.cc:15 Apply] GraphTransformer GeluFusion modified: 0 with status: OK\n",
      "2024-11-24 08:12:22.719065180 [I:onnxruntime:Default, graph_transformer.cc:15 Apply] GraphTransformer SimplifiedLayerNormFusion modified: 0 with status: OK\n",
      "2024-11-24 08:12:22.719087890 [I:onnxruntime:Default, graph_transformer.cc:15 Apply] GraphTransformer FastGeluFusion modified: 0 with status: OK\n",
      "2024-11-24 08:12:22.719111669 [I:onnxruntime:Default, graph_transformer.cc:15 Apply] GraphTransformer QuickGeluFusion modified: 0 with status: OK\n",
      "2024-11-24 08:12:22.719126169 [I:onnxruntime:Default, graph_transformer.cc:15 Apply] GraphTransformer SoftmaxCrossEntropyLossInternalFusion modified: 0 with status: OK\n",
      "2024-11-24 08:12:22.719154209 [I:onnxruntime:Default, graph_transformer.cc:15 Apply] GraphTransformer GatherSliceToSplitFusion modified: 0 with status: OK\n",
      "2024-11-24 08:12:22.719168388 [I:onnxruntime:Default, graph_transformer.cc:15 Apply] GraphTransformer GatherToSliceFusion modified: 0 with status: OK\n",
      "2024-11-24 08:12:22.719182118 [I:onnxruntime:Default, graph_transformer.cc:15 Apply] GraphTransformer QDQFusion modified: 0 with status: OK\n",
      "2024-11-24 08:12:22.719202298 [I:onnxruntime:Default, graph_transformer.cc:15 Apply] GraphTransformer ConstantFolding modified: 0 with status: OK\n",
      "2024-11-24 08:12:22.719227977 [I:onnxruntime:Default, graph_transformer.cc:15 Apply] GraphTransformer ReshapeFusion modified: 0 with status: OK\n",
      "2024-11-24 08:12:22.719244247 [I:onnxruntime:Default, graph_transformer.cc:15 Apply] GraphTransformer ShapeOptimizer modified: 0 with status: OK\n",
      "2024-11-24 08:12:22.719258337 [I:onnxruntime:Default, graph_transformer.cc:15 Apply] GraphTransformer ConcatSliceElimination modified: 0 with status: OK\n",
      "2024-11-24 08:12:22.719345226 [I:onnxruntime:Default, graph_transformer.cc:15 Apply] GraphTransformer PropagateCastOps modified: 0 with status: OK\n",
      "2024-11-24 08:12:22.719372595 [I:onnxruntime:Default, graph_transformer.cc:15 Apply] GraphTransformer CastSceLossFusion modified: 0 with status: OK\n",
      "2024-11-24 08:12:22.719398415 [I:onnxruntime:Default, graph_transformer.cc:15 Apply] GraphTransformer Level1_RuleBasedTransformer modified: 0 with status: OK\n",
      "2024-11-24 08:12:22.719422025 [I:onnxruntime:Default, graph_transformer.cc:15 Apply] GraphTransformer Level2_RuleBasedTransformer modified: 0 with status: OK\n",
      "2024-11-24 08:12:22.722794733 [I:onnxruntime:Default, graph_transformer.cc:15 Apply] GraphTransformer pre_training_rule_based_graph_transformer modified: 0 with status: OK\n"
     ]
    }
   ],
   "source": [
    "import onnx\n",
    "from onnxruntime.training import artifacts\n",
    "\n",
    "# get the onnx model\n",
    "onnx_model = onnx.load(f\"public/training_artifacts/{model_name}.onnx\")\n",
    "\n",
    "# distinguish which weights we want to train and which we want to leave (in demo case, only last layer)\n",
    "requires_grad = [\"fc.weight\", \"fc.bias\"]\n",
    "frozen_params = [\n",
    "    param.name\n",
    "    for param in onnx_model.graph.initializer\n",
    "    if param.name not in requires_grad\n",
    "]\n",
    "\n",
    "# generate the training artifacts\n",
    "artifacts.generate_artifacts(\n",
    "    onnx_model,\n",
    "    requires_grad=requires_grad,\n",
    "    frozen_params=frozen_params,\n",
    "    loss=artifacts.LossType.CrossEntropyLoss,\n",
    "    optimizer=artifacts.OptimType.AdamW,\n",
    "    artifact_directory=\"public/training_artifacts\"\n",
    ")"
   ]
  },
  {
   "cell_type": "markdown",
   "metadata": {},
   "source": [
    "## Part 2: Dataset Download and Install\n",
    "\n",
    "For the purposes of this demo, we install the bloodMNIST dataset and test using that."
   ]
  },
  {
   "cell_type": "code",
   "execution_count": null,
   "metadata": {},
   "outputs": [
    {
     "name": "stdout",
     "output_type": "stream",
     "text": [
      "Using downloaded and verified file: /home/saafetensors/.medmnist/bloodmnist.npz\n",
      "Using downloaded and verified file: /home/saafetensors/.medmnist/bloodmnist.npz\n",
      "Processing train data...\n",
      "Processing train samples:   0%|                       | 0/11959 [00:00<?, ?it/s]/home/saafetensors/Desktop/decai-fe/convert_dataset.py:43: DeprecationWarning: Conversion of an array with ndim > 0 to a scalar is deprecated, and will error in future. Ensure you extract a single element from your array before performing this operation. (Deprecated NumPy 1.25.)\n",
      "  'label': int(label)\n",
      "Processing train samples: 100%|████████| 11959/11959 [00:00<00:00, 27336.45it/s]\n",
      "Saved train data to public/data/bloodmnist_train.json\n",
      "Processing test data...\n",
      "Processing test samples: 100%|███████████| 3421/3421 [00:00<00:00, 38447.37it/s]\n",
      "Saved test data to public/data/bloodmnist_test.json\n",
      "Conversion completed successfully.\n"
     ]
    },
    {
     "ename": "",
     "evalue": "",
     "output_type": "error",
     "traceback": [
      "\u001b[1;31mThe Kernel crashed while executing code in the current cell or a previous cell. \n",
      "\u001b[1;31mPlease review the code in the cell(s) to identify a possible cause of the failure. \n",
      "\u001b[1;31mClick <a href='https://aka.ms/vscodeJupyterKernelCrash'>here</a> for more info. \n",
      "\u001b[1;31mView Jupyter <a href='command:jupyter.viewOutput'>log</a> for further details."
     ]
    }
   ],
   "source": [
    "!python convert_dataset.py --data_flag \"bloodmnist\" --output_dir \"public/data\""
   ]
  }
 ],
 "metadata": {
  "kernelspec": {
   "display_name": "venv",
   "language": "python",
   "name": "python3"
  },
  "language_info": {
   "codemirror_mode": {
    "name": "ipython",
    "version": 3
   },
   "file_extension": ".py",
   "mimetype": "text/x-python",
   "name": "python",
   "nbconvert_exporter": "python",
   "pygments_lexer": "ipython3",
   "version": "3.12.3"
  }
 },
 "nbformat": 4,
 "nbformat_minor": 2
}
